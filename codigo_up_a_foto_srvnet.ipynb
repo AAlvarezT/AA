{
 "cells": [
  {
   "cell_type": "code",
   "execution_count": null,
   "metadata": {},
   "outputs": [
    {
     "name": "stdout",
     "output_type": "stream",
     "text": [
      "['000291369', '000249827', '000198144', '000266085', '000259132', '000248286', '000266015', '000270230', '000263126', '000260206', '000275840', '000281516', '000281189', '000281702', '000273721', '000281271', '000263060', '000253911', '000226804', '000280384', '000252338', '000284340', '000266261', '000268655']\n"
     ]
    },
    {
     "ename": "SessionNotCreatedException",
     "evalue": "Message: session not created: This version of ChromeDriver only supports Chrome version 114\nCurrent browser version is 131.0.6778.70 with binary path C:\\Program Files\\Google\\Chrome\\Application\\chrome.exe\nStacktrace:\nBacktrace:\n\tGetHandleVerifier [0x00D7A813+48355]\n\t(No symbol) [0x00D0C4B1]\n\t(No symbol) [0x00C15358]\n\t(No symbol) [0x00C361AC]\n\t(No symbol) [0x00C31EF3]\n\t(No symbol) [0x00C30579]\n\t(No symbol) [0x00C60C55]\n\t(No symbol) [0x00C6093C]\n\t(No symbol) [0x00C5A536]\n\t(No symbol) [0x00C382DC]\n\t(No symbol) [0x00C393DD]\n\tGetHandleVerifier [0x00FDAABD+2539405]\n\tGetHandleVerifier [0x0101A78F+2800735]\n\tGetHandleVerifier [0x0101456C+2775612]\n\tGetHandleVerifier [0x00E051E0+616112]\n\t(No symbol) [0x00D15F8C]\n\t(No symbol) [0x00D12328]\n\t(No symbol) [0x00D1240B]\n\t(No symbol) [0x00D04FF7]\n\tBaseThreadInitThunk [0x75ED5D49+25]\n\tRtlInitializeExceptionChain [0x772FCEBB+107]\n\tRtlGetAppContainerNamedObjectPath [0x772FCE41+561]\n",
     "output_type": "error",
     "traceback": [
      "\u001b[1;31m---------------------------------------------------------------------------\u001b[0m",
      "\u001b[1;31mSessionNotCreatedException\u001b[0m                Traceback (most recent call last)",
      "Cell \u001b[1;32mIn[8], line 56\u001b[0m\n\u001b[0;32m     54\u001b[0m options \u001b[38;5;241m=\u001b[39m webdriver\u001b[38;5;241m.\u001b[39mChromeOptions()\n\u001b[0;32m     55\u001b[0m options\u001b[38;5;241m.\u001b[39madd_argument(\u001b[38;5;124m'\u001b[39m\u001b[38;5;124m--start-maximized\u001b[39m\u001b[38;5;124m'\u001b[39m)\n\u001b[1;32m---> 56\u001b[0m driver \u001b[38;5;241m=\u001b[39m \u001b[43mwebdriver\u001b[49m\u001b[38;5;241;43m.\u001b[39;49m\u001b[43mChrome\u001b[49m\u001b[43m(\u001b[49m\u001b[43mservice\u001b[49m\u001b[38;5;241;43m=\u001b[39;49m\u001b[43mservice\u001b[49m\u001b[43m,\u001b[49m\u001b[43m \u001b[49m\u001b[43moptions\u001b[49m\u001b[38;5;241;43m=\u001b[39;49m\u001b[43moptions\u001b[49m\u001b[43m)\u001b[49m\n\u001b[0;32m     58\u001b[0m \u001b[38;5;66;03m# URL de la página\u001b[39;00m\n\u001b[0;32m     59\u001b[0m url \u001b[38;5;241m=\u001b[39m \u001b[38;5;124m\"\u001b[39m\u001b[38;5;124mhttps://srvnetappup.up.edu.pe/AppSIP/RapiBusqueda\u001b[39m\u001b[38;5;124m\"\u001b[39m\n",
      "File \u001b[1;32m~\\AppData\\Local\\Packages\\PythonSoftwareFoundation.Python.3.11_qbz5n2kfra8p0\\LocalCache\\local-packages\\Python311\\site-packages\\selenium\\webdriver\\chrome\\webdriver.py:45\u001b[0m, in \u001b[0;36mWebDriver.__init__\u001b[1;34m(self, options, service, keep_alive)\u001b[0m\n\u001b[0;32m     42\u001b[0m service \u001b[38;5;241m=\u001b[39m service \u001b[38;5;28;01mif\u001b[39;00m service \u001b[38;5;28;01melse\u001b[39;00m Service()\n\u001b[0;32m     43\u001b[0m options \u001b[38;5;241m=\u001b[39m options \u001b[38;5;28;01mif\u001b[39;00m options \u001b[38;5;28;01melse\u001b[39;00m Options()\n\u001b[1;32m---> 45\u001b[0m \u001b[38;5;28;43msuper\u001b[39;49m\u001b[43m(\u001b[49m\u001b[43m)\u001b[49m\u001b[38;5;241;43m.\u001b[39;49m\u001b[38;5;21;43m__init__\u001b[39;49m\u001b[43m(\u001b[49m\n\u001b[0;32m     46\u001b[0m \u001b[43m    \u001b[49m\u001b[43mbrowser_name\u001b[49m\u001b[38;5;241;43m=\u001b[39;49m\u001b[43mDesiredCapabilities\u001b[49m\u001b[38;5;241;43m.\u001b[39;49m\u001b[43mCHROME\u001b[49m\u001b[43m[\u001b[49m\u001b[38;5;124;43m\"\u001b[39;49m\u001b[38;5;124;43mbrowserName\u001b[39;49m\u001b[38;5;124;43m\"\u001b[39;49m\u001b[43m]\u001b[49m\u001b[43m,\u001b[49m\n\u001b[0;32m     47\u001b[0m \u001b[43m    \u001b[49m\u001b[43mvendor_prefix\u001b[49m\u001b[38;5;241;43m=\u001b[39;49m\u001b[38;5;124;43m\"\u001b[39;49m\u001b[38;5;124;43mgoog\u001b[39;49m\u001b[38;5;124;43m\"\u001b[39;49m\u001b[43m,\u001b[49m\n\u001b[0;32m     48\u001b[0m \u001b[43m    \u001b[49m\u001b[43moptions\u001b[49m\u001b[38;5;241;43m=\u001b[39;49m\u001b[43moptions\u001b[49m\u001b[43m,\u001b[49m\n\u001b[0;32m     49\u001b[0m \u001b[43m    \u001b[49m\u001b[43mservice\u001b[49m\u001b[38;5;241;43m=\u001b[39;49m\u001b[43mservice\u001b[49m\u001b[43m,\u001b[49m\n\u001b[0;32m     50\u001b[0m \u001b[43m    \u001b[49m\u001b[43mkeep_alive\u001b[49m\u001b[38;5;241;43m=\u001b[39;49m\u001b[43mkeep_alive\u001b[49m\u001b[43m,\u001b[49m\n\u001b[0;32m     51\u001b[0m \u001b[43m\u001b[49m\u001b[43m)\u001b[49m\n",
      "File \u001b[1;32m~\\AppData\\Local\\Packages\\PythonSoftwareFoundation.Python.3.11_qbz5n2kfra8p0\\LocalCache\\local-packages\\Python311\\site-packages\\selenium\\webdriver\\chromium\\webdriver.py:66\u001b[0m, in \u001b[0;36mChromiumDriver.__init__\u001b[1;34m(self, browser_name, vendor_prefix, options, service, keep_alive)\u001b[0m\n\u001b[0;32m     57\u001b[0m executor \u001b[38;5;241m=\u001b[39m ChromiumRemoteConnection(\n\u001b[0;32m     58\u001b[0m     remote_server_addr\u001b[38;5;241m=\u001b[39m\u001b[38;5;28mself\u001b[39m\u001b[38;5;241m.\u001b[39mservice\u001b[38;5;241m.\u001b[39mservice_url,\n\u001b[0;32m     59\u001b[0m     browser_name\u001b[38;5;241m=\u001b[39mbrowser_name,\n\u001b[1;32m   (...)\u001b[0m\n\u001b[0;32m     62\u001b[0m     ignore_proxy\u001b[38;5;241m=\u001b[39moptions\u001b[38;5;241m.\u001b[39m_ignore_local_proxy,\n\u001b[0;32m     63\u001b[0m )\n\u001b[0;32m     65\u001b[0m \u001b[38;5;28;01mtry\u001b[39;00m:\n\u001b[1;32m---> 66\u001b[0m     \u001b[38;5;28;43msuper\u001b[39;49m\u001b[43m(\u001b[49m\u001b[43m)\u001b[49m\u001b[38;5;241;43m.\u001b[39;49m\u001b[38;5;21;43m__init__\u001b[39;49m\u001b[43m(\u001b[49m\u001b[43mcommand_executor\u001b[49m\u001b[38;5;241;43m=\u001b[39;49m\u001b[43mexecutor\u001b[49m\u001b[43m,\u001b[49m\u001b[43m \u001b[49m\u001b[43moptions\u001b[49m\u001b[38;5;241;43m=\u001b[39;49m\u001b[43moptions\u001b[49m\u001b[43m)\u001b[49m\n\u001b[0;32m     67\u001b[0m \u001b[38;5;28;01mexcept\u001b[39;00m \u001b[38;5;167;01mException\u001b[39;00m:\n\u001b[0;32m     68\u001b[0m     \u001b[38;5;28mself\u001b[39m\u001b[38;5;241m.\u001b[39mquit()\n",
      "File \u001b[1;32m~\\AppData\\Local\\Packages\\PythonSoftwareFoundation.Python.3.11_qbz5n2kfra8p0\\LocalCache\\local-packages\\Python311\\site-packages\\selenium\\webdriver\\remote\\webdriver.py:212\u001b[0m, in \u001b[0;36mWebDriver.__init__\u001b[1;34m(self, command_executor, keep_alive, file_detector, options)\u001b[0m\n\u001b[0;32m    210\u001b[0m \u001b[38;5;28mself\u001b[39m\u001b[38;5;241m.\u001b[39m_authenticator_id \u001b[38;5;241m=\u001b[39m \u001b[38;5;28;01mNone\u001b[39;00m\n\u001b[0;32m    211\u001b[0m \u001b[38;5;28mself\u001b[39m\u001b[38;5;241m.\u001b[39mstart_client()\n\u001b[1;32m--> 212\u001b[0m \u001b[38;5;28;43mself\u001b[39;49m\u001b[38;5;241;43m.\u001b[39;49m\u001b[43mstart_session\u001b[49m\u001b[43m(\u001b[49m\u001b[43mcapabilities\u001b[49m\u001b[43m)\u001b[49m\n\u001b[0;32m    214\u001b[0m \u001b[38;5;28mself\u001b[39m\u001b[38;5;241m.\u001b[39m_websocket_connection \u001b[38;5;241m=\u001b[39m \u001b[38;5;28;01mNone\u001b[39;00m\n\u001b[0;32m    215\u001b[0m \u001b[38;5;28mself\u001b[39m\u001b[38;5;241m.\u001b[39m_script \u001b[38;5;241m=\u001b[39m \u001b[38;5;28;01mNone\u001b[39;00m\n",
      "File \u001b[1;32m~\\AppData\\Local\\Packages\\PythonSoftwareFoundation.Python.3.11_qbz5n2kfra8p0\\LocalCache\\local-packages\\Python311\\site-packages\\selenium\\webdriver\\remote\\webdriver.py:299\u001b[0m, in \u001b[0;36mWebDriver.start_session\u001b[1;34m(self, capabilities)\u001b[0m\n\u001b[0;32m    292\u001b[0m \u001b[38;5;250m\u001b[39m\u001b[38;5;124;03m\"\"\"Creates a new session with the desired capabilities.\u001b[39;00m\n\u001b[0;32m    293\u001b[0m \n\u001b[0;32m    294\u001b[0m \u001b[38;5;124;03m:Args:\u001b[39;00m\n\u001b[0;32m    295\u001b[0m \u001b[38;5;124;03m - capabilities - a capabilities dict to start the session with.\u001b[39;00m\n\u001b[0;32m    296\u001b[0m \u001b[38;5;124;03m\"\"\"\u001b[39;00m\n\u001b[0;32m    298\u001b[0m caps \u001b[38;5;241m=\u001b[39m _create_caps(capabilities)\n\u001b[1;32m--> 299\u001b[0m response \u001b[38;5;241m=\u001b[39m \u001b[38;5;28;43mself\u001b[39;49m\u001b[38;5;241;43m.\u001b[39;49m\u001b[43mexecute\u001b[49m\u001b[43m(\u001b[49m\u001b[43mCommand\u001b[49m\u001b[38;5;241;43m.\u001b[39;49m\u001b[43mNEW_SESSION\u001b[49m\u001b[43m,\u001b[49m\u001b[43m \u001b[49m\u001b[43mcaps\u001b[49m\u001b[43m)\u001b[49m[\u001b[38;5;124m\"\u001b[39m\u001b[38;5;124mvalue\u001b[39m\u001b[38;5;124m\"\u001b[39m]\n\u001b[0;32m    300\u001b[0m \u001b[38;5;28mself\u001b[39m\u001b[38;5;241m.\u001b[39msession_id \u001b[38;5;241m=\u001b[39m response\u001b[38;5;241m.\u001b[39mget(\u001b[38;5;124m\"\u001b[39m\u001b[38;5;124msessionId\u001b[39m\u001b[38;5;124m\"\u001b[39m)\n\u001b[0;32m    301\u001b[0m \u001b[38;5;28mself\u001b[39m\u001b[38;5;241m.\u001b[39mcaps \u001b[38;5;241m=\u001b[39m response\u001b[38;5;241m.\u001b[39mget(\u001b[38;5;124m\"\u001b[39m\u001b[38;5;124mcapabilities\u001b[39m\u001b[38;5;124m\"\u001b[39m)\n",
      "File \u001b[1;32m~\\AppData\\Local\\Packages\\PythonSoftwareFoundation.Python.3.11_qbz5n2kfra8p0\\LocalCache\\local-packages\\Python311\\site-packages\\selenium\\webdriver\\remote\\webdriver.py:354\u001b[0m, in \u001b[0;36mWebDriver.execute\u001b[1;34m(self, driver_command, params)\u001b[0m\n\u001b[0;32m    352\u001b[0m response \u001b[38;5;241m=\u001b[39m \u001b[38;5;28mself\u001b[39m\u001b[38;5;241m.\u001b[39mcommand_executor\u001b[38;5;241m.\u001b[39mexecute(driver_command, params)\n\u001b[0;32m    353\u001b[0m \u001b[38;5;28;01mif\u001b[39;00m response:\n\u001b[1;32m--> 354\u001b[0m     \u001b[38;5;28;43mself\u001b[39;49m\u001b[38;5;241;43m.\u001b[39;49m\u001b[43merror_handler\u001b[49m\u001b[38;5;241;43m.\u001b[39;49m\u001b[43mcheck_response\u001b[49m\u001b[43m(\u001b[49m\u001b[43mresponse\u001b[49m\u001b[43m)\u001b[49m\n\u001b[0;32m    355\u001b[0m     response[\u001b[38;5;124m\"\u001b[39m\u001b[38;5;124mvalue\u001b[39m\u001b[38;5;124m\"\u001b[39m] \u001b[38;5;241m=\u001b[39m \u001b[38;5;28mself\u001b[39m\u001b[38;5;241m.\u001b[39m_unwrap_value(response\u001b[38;5;241m.\u001b[39mget(\u001b[38;5;124m\"\u001b[39m\u001b[38;5;124mvalue\u001b[39m\u001b[38;5;124m\"\u001b[39m, \u001b[38;5;28;01mNone\u001b[39;00m))\n\u001b[0;32m    356\u001b[0m     \u001b[38;5;28;01mreturn\u001b[39;00m response\n",
      "File \u001b[1;32m~\\AppData\\Local\\Packages\\PythonSoftwareFoundation.Python.3.11_qbz5n2kfra8p0\\LocalCache\\local-packages\\Python311\\site-packages\\selenium\\webdriver\\remote\\errorhandler.py:229\u001b[0m, in \u001b[0;36mErrorHandler.check_response\u001b[1;34m(self, response)\u001b[0m\n\u001b[0;32m    227\u001b[0m         alert_text \u001b[38;5;241m=\u001b[39m value[\u001b[38;5;124m\"\u001b[39m\u001b[38;5;124malert\u001b[39m\u001b[38;5;124m\"\u001b[39m]\u001b[38;5;241m.\u001b[39mget(\u001b[38;5;124m\"\u001b[39m\u001b[38;5;124mtext\u001b[39m\u001b[38;5;124m\"\u001b[39m)\n\u001b[0;32m    228\u001b[0m     \u001b[38;5;28;01mraise\u001b[39;00m exception_class(message, screen, stacktrace, alert_text)  \u001b[38;5;66;03m# type: ignore[call-arg]  # mypy is not smart enough here\u001b[39;00m\n\u001b[1;32m--> 229\u001b[0m \u001b[38;5;28;01mraise\u001b[39;00m exception_class(message, screen, stacktrace)\n",
      "\u001b[1;31mSessionNotCreatedException\u001b[0m: Message: session not created: This version of ChromeDriver only supports Chrome version 114\nCurrent browser version is 131.0.6778.70 with binary path C:\\Program Files\\Google\\Chrome\\Application\\chrome.exe\nStacktrace:\nBacktrace:\n\tGetHandleVerifier [0x00D7A813+48355]\n\t(No symbol) [0x00D0C4B1]\n\t(No symbol) [0x00C15358]\n\t(No symbol) [0x00C361AC]\n\t(No symbol) [0x00C31EF3]\n\t(No symbol) [0x00C30579]\n\t(No symbol) [0x00C60C55]\n\t(No symbol) [0x00C6093C]\n\t(No symbol) [0x00C5A536]\n\t(No symbol) [0x00C382DC]\n\t(No symbol) [0x00C393DD]\n\tGetHandleVerifier [0x00FDAABD+2539405]\n\tGetHandleVerifier [0x0101A78F+2800735]\n\tGetHandleVerifier [0x0101456C+2775612]\n\tGetHandleVerifier [0x00E051E0+616112]\n\t(No symbol) [0x00D15F8C]\n\t(No symbol) [0x00D12328]\n\t(No symbol) [0x00D1240B]\n\t(No symbol) [0x00D04FF7]\n\tBaseThreadInitThunk [0x75ED5D49+25]\n\tRtlInitializeExceptionChain [0x772FCEBB+107]\n\tRtlGetAppContainerNamedObjectPath [0x772FCE41+561]\n"
     ]
    }
   ],
   "source": [
    "from selenium import webdriver\n",
    "from selenium.webdriver.common.by import By\n",
    "from selenium.webdriver.chrome.service import Service\n",
    "from selenium.webdriver.support.ui import WebDriverWait\n",
    "from selenium.webdriver.support import expected_conditions as EC\n",
    "import time\n",
    "import os\n",
    "\n",
    "def quitar_guiones(lista_codigos):\n",
    "    \"\"\"\n",
    "    Función para eliminar los guiones de una lista de códigos.\n",
    "\n",
    "    Args:\n",
    "        lista_codigos (list): Lista de códigos con guiones.\n",
    "\n",
    "    Returns:\n",
    "        list: Lista de códigos sin guiones.\n",
    "    \"\"\"\n",
    "    return [codigo.replace(\"-\", \"\") for codigo in lista_codigos]\n",
    "lista_codigos = [\n",
    "    \"000-291-369\",\n",
    "    \"000-249-827\",\n",
    "    \"000-198-144\",\n",
    "    \"000-266-085\",\n",
    "    \"000-259-132\",\n",
    "    \"000-248-286\",\n",
    "    \"000-266-015\",\n",
    "    \"000-270-230\",\n",
    "    \"000-263-126\",\n",
    "    \"000-260-206\",\n",
    "    \"000-275-840\",\n",
    "    \"000-281-516\",\n",
    "    \"000-281-189\",\n",
    "    \"000-281-702\",\n",
    "    \"000-273-721\",\n",
    "    \"000-281-271\",\n",
    "    \"000-263-060\",\n",
    "    \"000-253-911\",\n",
    "    \"000-226-804\",\n",
    "    \"000-280-384\",\n",
    "    \"000-252-338\",\n",
    "    \"000-284-340\",\n",
    "    \"000-266-261\",\n",
    "    \"000-268-655\"\n",
    "]\n",
    "# Limpiar la lista\n",
    "lista_codigos_limpios = quitar_guiones(lista_codigos)\n",
    "\n",
    "# Imprimir resultados\n",
    "print(lista_codigos_limpios)\n",
    "# Configuración del driver de Selenium\n",
    "driver_path = \"C:\\\\chromedriver.exe\"  # Ruta del ChromeDriver\n",
    "service = Service(driver_path)\n",
    "options = webdriver.ChromeOptions()\n",
    "options.add_argument('--start-maximized')\n",
    "driver = webdriver.Chrome(service=service, options=options)\n",
    "\n",
    "# URL de la página\n",
    "url = \"https://srvnetappup.up.edu.pe/AppSIP/RapiBusqueda\"\n",
    "driver.get(url)\n",
    "\n",
    "# Esperar que cargue la página\n",
    "wait = WebDriverWait(driver, 10)\n",
    "\n",
    "# Crear carpeta para guardar las capturas de pantalla\n",
    "output_dir = \"screenshots\"\n",
    "if not os.path.exists(output_dir):\n",
    "    os.makedirs(output_dir)\n",
    "\n",
    "# Iterar sobre los códigos\n",
    "for codigo in codigos:\n",
    "    try:\n",
    "        # Seleccionar la opción \"Código UP\"\n",
    "        codigo_up_radio = wait.until(EC.element_to_be_clickable((By.XPATH, '//input[@value=\"Código UP\"]')))\n",
    "        codigo_up_radio.click()\n",
    "\n",
    "        # Ingresar el código en el campo de texto\n",
    "        codigo_input = wait.until(EC.element_to_be_clickable((By.XPATH, '//input[@name=\"Codigo\"]')))\n",
    "        codigo_input.clear()\n",
    "        codigo_input.send_keys(codigo)\n",
    "\n",
    "        # Hacer clic en \"Consultar\"\n",
    "        consultar_button = wait.until(EC.element_to_be_clickable((By.XPATH, '//button[text()=\"Consultar\"]')))\n",
    "        consultar_button.click()\n",
    "\n",
    "        # Esperar un momento para que la página cargue\n",
    "        time.sleep(2)\n",
    "\n",
    "        # Tomar la captura de pantalla\n",
    "        screenshot_path = os.path.join(output_dir, f\"{codigo}.png\")\n",
    "        driver.save_screenshot(screenshot_path)\n",
    "        print(f\"Captura de pantalla guardada: {screenshot_path}\")\n",
    "\n",
    "        # Esperar que la página regrese al estado inicial\n",
    "        time.sleep(1)\n",
    "\n",
    "    except Exception as e:\n",
    "        print(f\"Error procesando el código {codigo}: {e}\")\n",
    "\n",
    "# Cerrar el navegador\n",
    "driver.quit()\n",
    "\n"
   ]
  },
  {
   "cell_type": "code",
   "execution_count": 6,
   "metadata": {},
   "outputs": [
    {
     "name": "stdout",
     "output_type": "stream",
     "text": [
      "['000291369', '000249827', '000198144', '000266085', '000259132', '000248286', '000266015', '000270230', '000263126', '000260206', '000275840', '000281516', '000281189', '000281702', '000273721', '000281271', '000263060', '000253911', '000226804', '000280384', '000252338', '000284340', '000266261', '000268655']\n"
     ]
    }
   ],
   "source": [
    "def quitar_guiones(lista_codigos):\n",
    "    \"\"\"\n",
    "    Función para eliminar los guiones de una lista de códigos.\n",
    "\n",
    "    Args:\n",
    "        lista_codigos (list): Lista de códigos con guiones.\n",
    "\n",
    "    Returns:\n",
    "        list: Lista de códigos sin guiones.\n",
    "    \"\"\"\n",
    "    return [codigo.replace(\"-\", \"\") for codigo in lista_codigos]\n",
    "lista_codigos = [\n",
    "    \"000-291-369\",\n",
    "    \"000-249-827\",\n",
    "    \"000-198-144\",\n",
    "    \"000-266-085\",\n",
    "    \"000-259-132\",\n",
    "    \"000-248-286\",\n",
    "    \"000-266-015\",\n",
    "    \"000-270-230\",\n",
    "    \"000-263-126\",\n",
    "    \"000-260-206\",\n",
    "    \"000-275-840\",\n",
    "    \"000-281-516\",\n",
    "    \"000-281-189\",\n",
    "    \"000-281-702\",\n",
    "    \"000-273-721\",\n",
    "    \"000-281-271\",\n",
    "    \"000-263-060\",\n",
    "    \"000-253-911\",\n",
    "    \"000-226-804\",\n",
    "    \"000-280-384\",\n",
    "    \"000-252-338\",\n",
    "    \"000-284-340\",\n",
    "    \"000-266-261\",\n",
    "    \"000-268-655\"\n",
    "]\n",
    "# Limpiar la lista\n",
    "lista_codigos_limpios = quitar_guiones(lista_codigos)\n",
    "\n",
    "# Imprimir resultados\n",
    "print(lista_codigos_limpios)"
   ]
  },
  {
   "cell_type": "code",
   "execution_count": 4,
   "metadata": {},
   "outputs": [
    {
     "name": "stdout",
     "output_type": "stream",
     "text": [
      "¡Selenium funciona!\n"
     ]
    }
   ],
   "source": [
    "from selenium import webdriver\n",
    "driver = webdriver.Chrome()\n",
    "driver.get(\"https://www.google.com\")\n",
    "print(\"¡Selenium funciona!\")\n",
    "driver.quit()"
   ]
  }
 ],
 "metadata": {
  "kernelspec": {
   "display_name": "Python 3",
   "language": "python",
   "name": "python3"
  },
  "language_info": {
   "codemirror_mode": {
    "name": "ipython",
    "version": 3
   },
   "file_extension": ".py",
   "mimetype": "text/x-python",
   "name": "python",
   "nbconvert_exporter": "python",
   "pygments_lexer": "ipython3",
   "version": "3.11.9"
  }
 },
 "nbformat": 4,
 "nbformat_minor": 2
}
