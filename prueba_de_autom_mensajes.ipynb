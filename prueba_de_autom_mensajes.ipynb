{
 "cells": [
  {
   "cell_type": "code",
   "execution_count": 12,
   "metadata": {},
   "outputs": [
    {
     "ename": "TimeoutException",
     "evalue": "Message: \nStacktrace:\n\tGetHandleVerifier [0x00007FF6ACD7B095+29557]\n\t(No symbol) [0x00007FF6ACCEFA50]\n\t(No symbol) [0x00007FF6ACBAB56A]\n\t(No symbol) [0x00007FF6ACBFF695]\n\t(No symbol) [0x00007FF6ACBFF8EC]\n\t(No symbol) [0x00007FF6ACC4B777]\n\t(No symbol) [0x00007FF6ACC271CF]\n\t(No symbol) [0x00007FF6ACC4851C]\n\t(No symbol) [0x00007FF6ACC26F33]\n\t(No symbol) [0x00007FF6ACBF116F]\n\t(No symbol) [0x00007FF6ACBF22D1]\n\tGetHandleVerifier [0x00007FF6AD0AC96D+3378253]\n\tGetHandleVerifier [0x00007FF6AD0F8497+3688311]\n\tGetHandleVerifier [0x00007FF6AD0ED1CB+3642539]\n\tGetHandleVerifier [0x00007FF6ACE3A6B6+813462]\n\t(No symbol) [0x00007FF6ACCFAB5F]\n\t(No symbol) [0x00007FF6ACCF6B74]\n\t(No symbol) [0x00007FF6ACCF6D10]\n\t(No symbol) [0x00007FF6ACCE5C1F]\n\tBaseThreadInitThunk [0x00007FF97C9FDBE7+23]\n\tRtlUserThreadStart [0x00007FF97D545A4C+44]\n",
     "output_type": "error",
     "traceback": [
      "\u001b[1;31m---------------------------------------------------------------------------\u001b[0m",
      "\u001b[1;31mTimeoutException\u001b[0m                          Traceback (most recent call last)",
      "Cell \u001b[1;32mIn[12], line 15\u001b[0m\n\u001b[0;32m     13\u001b[0m \u001b[38;5;66;03m# Esperar hasta que se cargue la página de chat\u001b[39;00m\n\u001b[0;32m     14\u001b[0m wait \u001b[38;5;241m=\u001b[39m WebDriverWait(driver, \u001b[38;5;241m60\u001b[39m)\n\u001b[1;32m---> 15\u001b[0m search_box \u001b[38;5;241m=\u001b[39m \u001b[43mwait\u001b[49m\u001b[38;5;241;43m.\u001b[39;49m\u001b[43muntil\u001b[49m\u001b[43m(\u001b[49m\u001b[43mEC\u001b[49m\u001b[38;5;241;43m.\u001b[39;49m\u001b[43mpresence_of_element_located\u001b[49m\u001b[43m(\u001b[49m\u001b[43m(\u001b[49m\u001b[43mBy\u001b[49m\u001b[38;5;241;43m.\u001b[39;49m\u001b[43mXPATH\u001b[49m\u001b[43m,\u001b[49m\u001b[43m \u001b[49m\u001b[38;5;124;43m'\u001b[39;49m\u001b[38;5;124;43m//div[@contenteditable=\u001b[39;49m\u001b[38;5;124;43m\"\u001b[39;49m\u001b[38;5;124;43mtrue\u001b[39;49m\u001b[38;5;124;43m\"\u001b[39;49m\u001b[38;5;124;43m][@data-tab=\u001b[39;49m\u001b[38;5;124;43m\"\u001b[39;49m\u001b[38;5;124;43m3\u001b[39;49m\u001b[38;5;124;43m\"\u001b[39;49m\u001b[38;5;124;43m]\u001b[39;49m\u001b[38;5;124;43m'\u001b[39;49m\u001b[43m)\u001b[49m\u001b[43m)\u001b[49m\u001b[43m)\u001b[49m\n\u001b[0;32m     17\u001b[0m \u001b[38;5;66;03m# Escribir el número de teléfono sin el @c.us\u001b[39;00m\n\u001b[0;32m     18\u001b[0m search_box\u001b[38;5;241m.\u001b[39msend_keys(\u001b[38;5;124m'\u001b[39m\u001b[38;5;124m51997356127\u001b[39m\u001b[38;5;124m'\u001b[39m)  \u001b[38;5;66;03m# Reemplaza con el número de teléfono deseado sin @c.us\u001b[39;00m\n",
      "File \u001b[1;32m~\\AppData\\Local\\Packages\\PythonSoftwareFoundation.Python.3.11_qbz5n2kfra8p0\\LocalCache\\local-packages\\Python311\\site-packages\\selenium\\webdriver\\support\\wait.py:105\u001b[0m, in \u001b[0;36mWebDriverWait.until\u001b[1;34m(self, method, message)\u001b[0m\n\u001b[0;32m    103\u001b[0m     \u001b[38;5;28;01mif\u001b[39;00m time\u001b[38;5;241m.\u001b[39mmonotonic() \u001b[38;5;241m>\u001b[39m end_time:\n\u001b[0;32m    104\u001b[0m         \u001b[38;5;28;01mbreak\u001b[39;00m\n\u001b[1;32m--> 105\u001b[0m \u001b[38;5;28;01mraise\u001b[39;00m TimeoutException(message, screen, stacktrace)\n",
      "\u001b[1;31mTimeoutException\u001b[0m: Message: \nStacktrace:\n\tGetHandleVerifier [0x00007FF6ACD7B095+29557]\n\t(No symbol) [0x00007FF6ACCEFA50]\n\t(No symbol) [0x00007FF6ACBAB56A]\n\t(No symbol) [0x00007FF6ACBFF695]\n\t(No symbol) [0x00007FF6ACBFF8EC]\n\t(No symbol) [0x00007FF6ACC4B777]\n\t(No symbol) [0x00007FF6ACC271CF]\n\t(No symbol) [0x00007FF6ACC4851C]\n\t(No symbol) [0x00007FF6ACC26F33]\n\t(No symbol) [0x00007FF6ACBF116F]\n\t(No symbol) [0x00007FF6ACBF22D1]\n\tGetHandleVerifier [0x00007FF6AD0AC96D+3378253]\n\tGetHandleVerifier [0x00007FF6AD0F8497+3688311]\n\tGetHandleVerifier [0x00007FF6AD0ED1CB+3642539]\n\tGetHandleVerifier [0x00007FF6ACE3A6B6+813462]\n\t(No symbol) [0x00007FF6ACCFAB5F]\n\t(No symbol) [0x00007FF6ACCF6B74]\n\t(No symbol) [0x00007FF6ACCF6D10]\n\t(No symbol) [0x00007FF6ACCE5C1F]\n\tBaseThreadInitThunk [0x00007FF97C9FDBE7+23]\n\tRtlUserThreadStart [0x00007FF97D545A4C+44]\n"
     ]
    }
   ],
   "source": [
    "from selenium import webdriver\n",
    "from selenium.webdriver.common.keys import Keys\n",
    "from selenium.webdriver.common.by import By\n",
    "from selenium.webdriver.support.ui import WebDriverWait\n",
    "from selenium.webdriver.support import expected_conditions as EC\n",
    "\n",
    "# Inicializar el webdriver\n",
    "driver = webdriver.Chrome()\n",
    "\n",
    "# Abrir WhatsApp Web\n",
    "driver.get('https://web.whatsapp.com/')\n",
    "\n",
    "# Esperar hasta que se cargue la página de chat\n",
    "wait = WebDriverWait(driver, 60)\n",
    "search_box = wait.until(EC.presence_of_element_located((By.XPATH, '//div[@contenteditable=\"true\"][@data-tab=\"3\"]')))\n",
    "\n",
    "# Escribir el número de teléfono sin el @c.us\n",
    "search_box.send_keys('51997356127')  # Reemplaza con el número de teléfono deseado sin @c.us\n",
    "search_box.send_keys(Keys.ENTER)\n",
    "\n",
    "# Encontrar el campo de texto y escribir el mensaje\n",
    "message_box = wait.until(EC.presence_of_element_located((By.XPATH, '//div[@contenteditable=\"true\" and contains(@class, \"copyable-text\")]')))\n",
    "message_box.click()  # Asegurarse de que el campo está seleccionado\n",
    "message_box.send_keys('¡Hola! Este es un mensaje automatizado.')\n",
    "\n",
    "# Enviar el mensaje\n",
    "button = wait.until(EC.element_to_be_clickable((By.XPATH, '//button[@data-icon=\"send\"]')))\n",
    "button.click()\n",
    "\n",
    "# Cerrar el navegador\n",
    "driver.quit()\n",
    "\n"
   ]
  }
 ],
 "metadata": {
  "kernelspec": {
   "display_name": "Python 3",
   "language": "python",
   "name": "python3"
  },
  "language_info": {
   "codemirror_mode": {
    "name": "ipython",
    "version": 3
   },
   "file_extension": ".py",
   "mimetype": "text/x-python",
   "name": "python",
   "nbconvert_exporter": "python",
   "pygments_lexer": "ipython3",
   "version": "3.11.9"
  }
 },
 "nbformat": 4,
 "nbformat_minor": 2
}
