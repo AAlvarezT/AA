{
 "cells": [
  {
   "cell_type": "code",
   "execution_count": 2,
   "metadata": {},
   "outputs": [
    {
     "name": "stdout",
     "output_type": "stream",
     "text": [
      "Coordenadas X: 272, Y: 231\n",
      "Coordenadas X: 269, Y: 255\n"
     ]
    }
   ],
   "source": [
    "from PIL import Image\n",
    "import tkinter as tk\n",
    "\n",
    "# Función que obtiene las coordenadas donde se hace clic\n",
    "def obtener_coordenadas(event):\n",
    "    print(f\"Coordenadas X: {event.x}, Y: {event.y}\")\n",
    "\n",
    "# Cargar la imagen\n",
    "imagen_base = \"Letra_base.png\"\n",
    "imagen = Image.open(imagen_base)\n",
    "\n",
    "# Crear una ventana para mostrar la imagen\n",
    "root = tk.Tk()\n",
    "root.title(\"Haz clic en la imagen para obtener las coordenadas\")\n",
    "\n",
    "# Convertir la imagen a un formato que tkinter pueda mostrar\n",
    "imagen_tk = tk.PhotoImage(file=imagen_base)\n",
    "\n",
    "# Crear un lienzo donde se mostrará la imagen\n",
    "canvas = tk.Canvas(root, width=imagen.width, height=imagen.height)\n",
    "canvas.pack()\n",
    "\n",
    "# Colocar la imagen en el lienzo\n",
    "canvas.create_image(0, 0, anchor=\"nw\", image=imagen_tk)\n",
    "\n",
    "# Asignar la función que obtiene las coordenadas al clic del mouse\n",
    "canvas.bind(\"<Button-1>\", obtener_coordenadas)\n",
    "\n",
    "# Iniciar la ventana\n",
    "root.mainloop()\n"
   ]
  }
 ],
 "metadata": {
  "kernelspec": {
   "display_name": "Python 3",
   "language": "python",
   "name": "python3"
  },
  "language_info": {
   "codemirror_mode": {
    "name": "ipython",
    "version": 3
   },
   "file_extension": ".py",
   "mimetype": "text/x-python",
   "name": "python",
   "nbconvert_exporter": "python",
   "pygments_lexer": "ipython3",
   "version": "3.11.9"
  }
 },
 "nbformat": 4,
 "nbformat_minor": 2
}
