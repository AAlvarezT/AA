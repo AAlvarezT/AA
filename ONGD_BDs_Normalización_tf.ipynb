{
 "cells": [
  {
   "cell_type": "code",
   "execution_count": 10,
   "metadata": {},
   "outputs": [],
   "source": [
    "import pandas as pd\n",
    "import os"
   ]
  },
  {
   "cell_type": "code",
   "execution_count": 12,
   "metadata": {},
   "outputs": [
    {
     "name": "stdout",
     "output_type": "stream",
     "text": [
      "Base de datos normalizada y guardada en un solo archivo Excel con múltiples hojas correctamente\n"
     ]
    }
   ],
   "source": [
    "import pandas as pd\n",
    "import os\n",
    "\n",
    "# Cargar la base de datos\n",
    "file_path = \"Base_Datos_Unificada.xlsx\"\n",
    "df = pd.read_excel(file_path, dtype=str)\n",
    "\n",
    "# **Eliminar el sufijo '- 0' en los nombres antes de cualquier otro paso**\n",
    "df[\"INSTITUCIÓN\"] = df[\"INSTITUCIÓN\"].str.replace(r\" - \\d+$\", \"\", regex=True).str.strip()\n",
    "\n",
    "# **Eliminar filas donde Departamento, Provincia, Distrito o Domicilio estén vacíos**\n",
    "df = df.dropna(subset=[\"DEPARTAMENTO\", \"PROVINCIA\", \"DISTRITO\", \"DOMICILIO\"])\n",
    "\n",
    "# **Crear la tabla 'Instituciones'**\n",
    "instituciones = df[[\"INSTITUCIÓN\", \"SIGLAS\"]].drop_duplicates().reset_index(drop=True)\n",
    "instituciones.insert(0, \"id_institucion\", instituciones.index + 1)  # Clave primaria al inicio\n",
    "\n",
    "# **Crear la tabla 'Distrito' (Ubicación Administrativa), ordenando correctamente**\n",
    "distritos = df[[\"DISTRITO\", \"PROVINCIA\", \"DEPARTAMENTO\"]].drop_duplicates()\n",
    "distritos = distritos.sort_values(by=[\"DEPARTAMENTO\", \"PROVINCIA\", \"DISTRITO\"]).reset_index(drop=True)\n",
    "distritos.insert(0, \"id_distrito\", distritos.index + 1)  # Clave primaria al inicio\n",
    "\n",
    "# **Crear la tabla 'Dirección' (Dirección específica)**\n",
    "direcciones = df[[\"INSTITUCIÓN\", \"DOMICILIO\", \"DISTRITO\"]].drop_duplicates()\n",
    "direcciones = direcciones.merge(instituciones, on=\"INSTITUCIÓN\", how=\"left\")  # Unir con instituciones\n",
    "direcciones = direcciones.merge(distritos, on=\"DISTRITO\", how=\"left\")  # Obtener id_distrito\n",
    "direcciones = direcciones[[\"DOMICILIO\", \"id_distrito\", \"id_institucion\"]].drop_duplicates().reset_index(drop=True)\n",
    "direcciones.insert(0, \"id_direccion\", direcciones.index + 1)  # Clave primaria al inicio\n",
    "\n",
    "# **Crear la tabla 'Áreas'**\n",
    "df[\"ÁREA\"] = df[\"ÁREA\"].fillna(\"\")  # Evitar valores NaN\n",
    "df[\"ÁREA\"] = df[\"ÁREA\"].str.split(\" / \")  # Dividir los valores múltiples en listas\n",
    "areas_exploded = df.explode(\"ÁREA\")[[\"ÁREA\"]].drop_duplicates().reset_index(drop=True)\n",
    "areas_exploded.insert(0, \"id_area\", areas_exploded.index + 1)  # Clave primaria al inicio\n",
    "\n",
    "# **Crear la tabla intermedia 'Institucion_Area'**\n",
    "institucion_area = df.explode(\"ÁREA\")[[\"INSTITUCIÓN\", \"ÁREA\"]].drop_duplicates()\n",
    "institucion_area = institucion_area.merge(instituciones, on=\"INSTITUCIÓN\", how=\"left\")\n",
    "institucion_area = institucion_area.merge(areas_exploded, on=\"ÁREA\", how=\"left\")\n",
    "institucion_area = institucion_area[[\"id_institucion\", \"id_area\"]].drop_duplicates().reset_index(drop=True)\n",
    "institucion_area.insert(0, \"id_institucion_area\", institucion_area.index + 1)  # Clave primaria al inicio\n",
    "\n",
    "# **Crear la tabla 'Semestres'**\n",
    "semestres = df[[\"INSTITUCIÓN\", \"PRIMER SEMESTRE\", \"ÚLTIMO SEMESTRE\"]].drop_duplicates()\n",
    "semestres = semestres.merge(instituciones, on=\"INSTITUCIÓN\", how=\"left\")\n",
    "semestres = semestres[[\"id_institucion\", \"PRIMER SEMESTRE\", \"ÚLTIMO SEMESTRE\"]].drop_duplicates().reset_index(drop=True)\n",
    "semestres.insert(0, \"id_semestre\", semestres.index + 1)  # Clave primaria al inicio\n",
    "\n",
    "# **Ruta de salida**\n",
    "output_folder = \"180 Postulación/Normalizada\"\n",
    "os.makedirs(output_folder, exist_ok=True)\n",
    "\n",
    "# **Ruta del archivo Excel combinado**\n",
    "output_file = f\"{output_folder}/Base_Datos_Normalizada.xlsx\"\n",
    "\n",
    "# **Guardar todas las tablas en un solo archivo Excel con múltiples hojas**\n",
    "with pd.ExcelWriter(output_file, engine=\"openpyxl\") as writer:\n",
    "    instituciones.to_excel(writer, sheet_name=\"Instituciones\", index=False)\n",
    "    distritos.to_excel(writer, sheet_name=\"Distrito\", index=False)\n",
    "    direcciones.to_excel(writer, sheet_name=\"Direcciones\", index=False)\n",
    "    areas_exploded.to_excel(writer, sheet_name=\"Areas\", index=False)\n",
    "    institucion_area.to_excel(writer, sheet_name=\"Institucion_Area\", index=False)\n",
    "    semestres.to_excel(writer, sheet_name=\"Semestres\", index=False)\n",
    "\n",
    "print(\"Base de datos normalizada y guardada en un solo archivo Excel con múltiples hojas correctamente\")\n"
   ]
  }
 ],
 "metadata": {
  "kernelspec": {
   "display_name": "Python 3",
   "language": "python",
   "name": "python3"
  },
  "language_info": {
   "codemirror_mode": {
    "name": "ipython",
    "version": 3
   },
   "file_extension": ".py",
   "mimetype": "text/x-python",
   "name": "python",
   "nbconvert_exporter": "python",
   "pygments_lexer": "ipython3",
   "version": "3.11.9"
  }
 },
 "nbformat": 4,
 "nbformat_minor": 2
}
